{
 "cells": [
  {
   "cell_type": "code",
   "execution_count": 1,
   "id": "f87cdf8b-0071-4318-9bd5-d8ea395c59a0",
   "metadata": {},
   "outputs": [],
   "source": [
    "import pandas as pd \n",
    "import numpy as np \n",
    "\n",
    "import matplotlib.pyplot as plt\n",
    "import seaborn as sns \n",
    "\n",
    "from sklearn.model_selection import train_test_split"
   ]
  },
  {
   "cell_type": "code",
   "execution_count": 2,
   "id": "c3b003cc-61cf-44fb-b0bd-f48de254fb51",
   "metadata": {},
   "outputs": [
    {
     "name": "stdout",
     "output_type": "stream",
     "text": [
      "(5000, 16)\n"
     ]
    },
    {
     "data": {
      "text/html": [
       "<div>\n",
       "<style scoped>\n",
       "    .dataframe tbody tr th:only-of-type {\n",
       "        vertical-align: middle;\n",
       "    }\n",
       "\n",
       "    .dataframe tbody tr th {\n",
       "        vertical-align: top;\n",
       "    }\n",
       "\n",
       "    .dataframe thead th {\n",
       "        text-align: right;\n",
       "    }\n",
       "</style>\n",
       "<table border=\"1\" class=\"dataframe\">\n",
       "  <thead>\n",
       "    <tr style=\"text-align: right;\">\n",
       "      <th></th>\n",
       "      <th>C_Cpp</th>\n",
       "      <th>Java</th>\n",
       "      <th>Python</th>\n",
       "      <th>HTML_CSS</th>\n",
       "      <th>UI_UX</th>\n",
       "      <th>Javascript</th>\n",
       "      <th>Numpy_Pandas</th>\n",
       "      <th>Scikit_learn</th>\n",
       "      <th>MERN</th>\n",
       "      <th>Linux</th>\n",
       "      <th>Cloud_Platforms</th>\n",
       "      <th>App_development</th>\n",
       "      <th>Number_of_Contest_attempted</th>\n",
       "      <th>LC_Contest_rating</th>\n",
       "      <th>Leetcode_Medium_problems</th>\n",
       "      <th>Skills_rating</th>\n",
       "    </tr>\n",
       "  </thead>\n",
       "  <tbody>\n",
       "    <tr>\n",
       "      <th>0</th>\n",
       "      <td>0</td>\n",
       "      <td>1</td>\n",
       "      <td>1</td>\n",
       "      <td>1</td>\n",
       "      <td>0</td>\n",
       "      <td>0</td>\n",
       "      <td>0</td>\n",
       "      <td>0</td>\n",
       "      <td>0</td>\n",
       "      <td>0</td>\n",
       "      <td>1</td>\n",
       "      <td>0</td>\n",
       "      <td>16</td>\n",
       "      <td>1304.0</td>\n",
       "      <td>178</td>\n",
       "      <td>5.52</td>\n",
       "    </tr>\n",
       "    <tr>\n",
       "      <th>1</th>\n",
       "      <td>1</td>\n",
       "      <td>1</td>\n",
       "      <td>1</td>\n",
       "      <td>0</td>\n",
       "      <td>0</td>\n",
       "      <td>0</td>\n",
       "      <td>0</td>\n",
       "      <td>0</td>\n",
       "      <td>0</td>\n",
       "      <td>1</td>\n",
       "      <td>0</td>\n",
       "      <td>0</td>\n",
       "      <td>35</td>\n",
       "      <td>1740.0</td>\n",
       "      <td>151</td>\n",
       "      <td>5.72</td>\n",
       "    </tr>\n",
       "    <tr>\n",
       "      <th>2</th>\n",
       "      <td>1</td>\n",
       "      <td>0</td>\n",
       "      <td>1</td>\n",
       "      <td>1</td>\n",
       "      <td>0</td>\n",
       "      <td>1</td>\n",
       "      <td>1</td>\n",
       "      <td>0</td>\n",
       "      <td>0</td>\n",
       "      <td>1</td>\n",
       "      <td>0</td>\n",
       "      <td>1</td>\n",
       "      <td>5</td>\n",
       "      <td>1414.0</td>\n",
       "      <td>184</td>\n",
       "      <td>7.71</td>\n",
       "    </tr>\n",
       "    <tr>\n",
       "      <th>3</th>\n",
       "      <td>1</td>\n",
       "      <td>1</td>\n",
       "      <td>1</td>\n",
       "      <td>1</td>\n",
       "      <td>0</td>\n",
       "      <td>1</td>\n",
       "      <td>0</td>\n",
       "      <td>0</td>\n",
       "      <td>0</td>\n",
       "      <td>1</td>\n",
       "      <td>0</td>\n",
       "      <td>0</td>\n",
       "      <td>0</td>\n",
       "      <td>1500.0</td>\n",
       "      <td>236</td>\n",
       "      <td>7.11</td>\n",
       "    </tr>\n",
       "    <tr>\n",
       "      <th>4</th>\n",
       "      <td>0</td>\n",
       "      <td>0</td>\n",
       "      <td>1</td>\n",
       "      <td>1</td>\n",
       "      <td>0</td>\n",
       "      <td>1</td>\n",
       "      <td>0</td>\n",
       "      <td>0</td>\n",
       "      <td>0</td>\n",
       "      <td>0</td>\n",
       "      <td>0</td>\n",
       "      <td>1</td>\n",
       "      <td>1</td>\n",
       "      <td>1513.0</td>\n",
       "      <td>241</td>\n",
       "      <td>5.14</td>\n",
       "    </tr>\n",
       "  </tbody>\n",
       "</table>\n",
       "</div>"
      ],
      "text/plain": [
       "   C_Cpp  Java  Python  HTML_CSS  UI_UX  Javascript  Numpy_Pandas  \\\n",
       "0      0     1       1         1      0           0             0   \n",
       "1      1     1       1         0      0           0             0   \n",
       "2      1     0       1         1      0           1             1   \n",
       "3      1     1       1         1      0           1             0   \n",
       "4      0     0       1         1      0           1             0   \n",
       "\n",
       "   Scikit_learn  MERN  Linux  Cloud_Platforms  App_development  \\\n",
       "0             0     0      0                1                0   \n",
       "1             0     0      1                0                0   \n",
       "2             0     0      1                0                1   \n",
       "3             0     0      1                0                0   \n",
       "4             0     0      0                0                1   \n",
       "\n",
       "   Number_of_Contest_attempted  LC_Contest_rating  Leetcode_Medium_problems  \\\n",
       "0                           16             1304.0                       178   \n",
       "1                           35             1740.0                       151   \n",
       "2                            5             1414.0                       184   \n",
       "3                            0             1500.0                       236   \n",
       "4                            1             1513.0                       241   \n",
       "\n",
       "   Skills_rating  \n",
       "0           5.52  \n",
       "1           5.72  \n",
       "2           7.71  \n",
       "3           7.11  \n",
       "4           5.14  "
      ]
     },
     "execution_count": 2,
     "metadata": {},
     "output_type": "execute_result"
    }
   ],
   "source": [
    "df = pd.read_csv('Skills.csv')\n",
    "print(df.shape)\n",
    "df.head()"
   ]
  },
  {
   "cell_type": "code",
   "execution_count": 5,
   "id": "1c2e5cd3-4fd4-4c46-8606-21a113e43e25",
   "metadata": {},
   "outputs": [
    {
     "data": {
      "text/plain": [
       "C_Cpp                          0.179798\n",
       "Java                           0.247914\n",
       "Python                         0.273582\n",
       "HTML_CSS                       0.139266\n",
       "UI_UX                          0.166470\n",
       "Javascript                     0.235417\n",
       "Numpy_Pandas                   0.241316\n",
       "Scikit_learn                   0.248663\n",
       "MERN                           0.306666\n",
       "Linux                          0.200484\n",
       "Cloud_Platforms                0.305415\n",
       "App_development                0.274670\n",
       "Number_of_Contest_attempted    0.359179\n",
       "LC_Contest_rating              0.422357\n",
       "Leetcode_Medium_problems       0.230326\n",
       "Skills_rating                  1.000000\n",
       "dtype: float64"
      ]
     },
     "execution_count": 5,
     "metadata": {},
     "output_type": "execute_result"
    }
   ],
   "source": [
    "df.corrwith(df['Skills_rating'])"
   ]
  },
  {
   "cell_type": "code",
   "execution_count": 7,
   "id": "7cb0a52d-16b6-4161-8d07-22aa8144ea3c",
   "metadata": {},
   "outputs": [
    {
     "name": "stdout",
     "output_type": "stream",
     "text": [
      "<class 'pandas.core.frame.DataFrame'>\n",
      "RangeIndex: 5000 entries, 0 to 4999\n",
      "Data columns (total 16 columns):\n",
      " #   Column                       Non-Null Count  Dtype  \n",
      "---  ------                       --------------  -----  \n",
      " 0   C_Cpp                        5000 non-null   int64  \n",
      " 1   Java                         5000 non-null   int64  \n",
      " 2   Python                       5000 non-null   int64  \n",
      " 3   HTML_CSS                     5000 non-null   int64  \n",
      " 4   UI_UX                        5000 non-null   int64  \n",
      " 5   Javascript                   5000 non-null   int64  \n",
      " 6   Numpy_Pandas                 5000 non-null   int64  \n",
      " 7   Scikit_learn                 5000 non-null   int64  \n",
      " 8   MERN                         5000 non-null   int64  \n",
      " 9   Linux                        5000 non-null   int64  \n",
      " 10  Cloud_Platforms              5000 non-null   int64  \n",
      " 11  App_development              5000 non-null   int64  \n",
      " 12  Number_of_Contest_attempted  5000 non-null   int64  \n",
      " 13  LC_Contest_rating            5000 non-null   float64\n",
      " 14  Leetcode_Medium_problems     5000 non-null   int64  \n",
      " 15  Skills_rating                5000 non-null   float64\n",
      "dtypes: float64(2), int64(14)\n",
      "memory usage: 625.1 KB\n"
     ]
    }
   ],
   "source": [
    "df.info()"
   ]
  },
  {
   "cell_type": "code",
   "execution_count": 9,
   "id": "3503eb01-3c9c-4fd7-b64a-b6191e2ef16c",
   "metadata": {},
   "outputs": [],
   "source": [
    "x = df.iloc[:, 0:-1]\n",
    "y = df.iloc[:, -1]"
   ]
  },
  {
   "cell_type": "code",
   "execution_count": 11,
   "id": "860cb1b9-a57a-4230-b2ad-b747d99f0342",
   "metadata": {},
   "outputs": [],
   "source": [
    "x_train, x_test, y_train, y_test = train_test_split(x, y, test_size=.2, random_state=42)"
   ]
  },
  {
   "cell_type": "code",
   "execution_count": 13,
   "id": "c4df0381-5687-4a24-8e12-e273358a6280",
   "metadata": {},
   "outputs": [],
   "source": [
    "from sklearn.linear_model import LinearRegression\n",
    "lr = LinearRegression()"
   ]
  },
  {
   "cell_type": "code",
   "execution_count": 15,
   "id": "68b1a62c-7296-44f3-872c-cdb29f225bda",
   "metadata": {},
   "outputs": [],
   "source": [
    "lr.fit(x_train, y_train)\n",
    "y_pred = lr.predict(x_test)"
   ]
  },
  {
   "cell_type": "code",
   "execution_count": 17,
   "id": "c0786c6d-8bdf-40cc-8a8e-89b73b892073",
   "metadata": {},
   "outputs": [
    {
     "data": {
      "text/plain": [
       "0.9278450300862853"
      ]
     },
     "execution_count": 17,
     "metadata": {},
     "output_type": "execute_result"
    }
   ],
   "source": [
    "from sklearn.metrics import r2_score\n",
    "r2_score(y_test, y_pred)"
   ]
  },
  {
   "cell_type": "code",
   "execution_count": 19,
   "id": "30e55340-5364-45fb-b054-1ff01ea38f1f",
   "metadata": {},
   "outputs": [
    {
     "data": {
      "text/plain": [
       "0.9268542845861314"
      ]
     },
     "execution_count": 19,
     "metadata": {},
     "output_type": "execute_result"
    }
   ],
   "source": [
    "from sklearn.model_selection import cross_val_score\n",
    "np.mean(cross_val_score(lr, x_train, y_train, cv=10))"
   ]
  },
  {
   "cell_type": "code",
   "execution_count": 21,
   "id": "0818ba10-0ed8-4ba0-8ff9-efce35bef7de",
   "metadata": {},
   "outputs": [
    {
     "name": "stderr",
     "output_type": "stream",
     "text": [
      "/home/anni/anaconda3/lib/python3.12/site-packages/sklearn/utils/validation.py:2739: UserWarning: X does not have valid feature names, but LinearRegression was fitted with feature names\n",
      "  warnings.warn(\n"
     ]
    },
    {
     "data": {
      "text/plain": [
       "array([5.57184812])"
      ]
     },
     "execution_count": 21,
     "metadata": {},
     "output_type": "execute_result"
    }
   ],
   "source": [
    "lr.predict([[1, 0, 1, 1, 0, 0, 1, 1, 0, 0, 0, 0, 7, 1480, 169]])"
   ]
  },
  {
   "cell_type": "code",
   "execution_count": null,
   "id": "e401b50e-2d4d-4511-8a52-7260d37aba00",
   "metadata": {},
   "outputs": [],
   "source": []
  }
 ],
 "metadata": {
  "kernelspec": {
   "display_name": "Python [conda env:base] *",
   "language": "python",
   "name": "conda-base-py"
  },
  "language_info": {
   "codemirror_mode": {
    "name": "ipython",
    "version": 3
   },
   "file_extension": ".py",
   "mimetype": "text/x-python",
   "name": "python",
   "nbconvert_exporter": "python",
   "pygments_lexer": "ipython3",
   "version": "3.12.2"
  }
 },
 "nbformat": 4,
 "nbformat_minor": 5
}
