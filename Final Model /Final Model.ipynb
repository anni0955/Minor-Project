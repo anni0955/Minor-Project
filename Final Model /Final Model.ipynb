{
 "cells": [
  {
   "cell_type": "code",
   "execution_count": 1,
   "id": "93b277ac-cb0c-4ad8-b616-934f9f028646",
   "metadata": {},
   "outputs": [],
   "source": [
    "import numpy as np\n",
    "import pandas as pd"
   ]
  },
  {
   "cell_type": "code",
   "execution_count": 332,
   "id": "ffa33564-d3bd-4130-8828-8e32fcba73e5",
   "metadata": {},
   "outputs": [
    {
     "data": {
      "text/html": [
       "<div>\n",
       "<style scoped>\n",
       "    .dataframe tbody tr th:only-of-type {\n",
       "        vertical-align: middle;\n",
       "    }\n",
       "\n",
       "    .dataframe tbody tr th {\n",
       "        vertical-align: top;\n",
       "    }\n",
       "\n",
       "    .dataframe thead th {\n",
       "        text-align: right;\n",
       "    }\n",
       "</style>\n",
       "<table border=\"1\" class=\"dataframe\">\n",
       "  <thead>\n",
       "    <tr style=\"text-align: right;\">\n",
       "      <th></th>\n",
       "      <th>CGPA</th>\n",
       "      <th>Internship</th>\n",
       "      <th>Paid_Internship</th>\n",
       "      <th>Projects</th>\n",
       "      <th>Aptitude_Score</th>\n",
       "      <th>Skills_Rating</th>\n",
       "      <th>Placement_Training</th>\n",
       "      <th>SSC_Marks</th>\n",
       "      <th>Gender</th>\n",
       "      <th>Placement_Status</th>\n",
       "    </tr>\n",
       "  </thead>\n",
       "  <tbody>\n",
       "    <tr>\n",
       "      <th>0</th>\n",
       "      <td>8.19</td>\n",
       "      <td>0</td>\n",
       "      <td>0</td>\n",
       "      <td>4</td>\n",
       "      <td>74.72</td>\n",
       "      <td>6.55</td>\n",
       "      <td>Not Attended</td>\n",
       "      <td>83.94</td>\n",
       "      <td>Male</td>\n",
       "      <td>Placed</td>\n",
       "    </tr>\n",
       "    <tr>\n",
       "      <th>1</th>\n",
       "      <td>7.17</td>\n",
       "      <td>0</td>\n",
       "      <td>0</td>\n",
       "      <td>3</td>\n",
       "      <td>68.51</td>\n",
       "      <td>6.79</td>\n",
       "      <td>Attended</td>\n",
       "      <td>67.28</td>\n",
       "      <td>Male</td>\n",
       "      <td>Placed</td>\n",
       "    </tr>\n",
       "    <tr>\n",
       "      <th>2</th>\n",
       "      <td>9.02</td>\n",
       "      <td>1</td>\n",
       "      <td>0</td>\n",
       "      <td>5</td>\n",
       "      <td>85.67</td>\n",
       "      <td>7.79</td>\n",
       "      <td>Attended</td>\n",
       "      <td>60.86</td>\n",
       "      <td>Male</td>\n",
       "      <td>Placed</td>\n",
       "    </tr>\n",
       "    <tr>\n",
       "      <th>3</th>\n",
       "      <td>8.44</td>\n",
       "      <td>1</td>\n",
       "      <td>0</td>\n",
       "      <td>4</td>\n",
       "      <td>55.29</td>\n",
       "      <td>6.47</td>\n",
       "      <td>Attended</td>\n",
       "      <td>76.20</td>\n",
       "      <td>Female</td>\n",
       "      <td>Placed</td>\n",
       "    </tr>\n",
       "    <tr>\n",
       "      <th>4</th>\n",
       "      <td>8.63</td>\n",
       "      <td>1</td>\n",
       "      <td>0</td>\n",
       "      <td>5</td>\n",
       "      <td>70.58</td>\n",
       "      <td>7.54</td>\n",
       "      <td>Attended</td>\n",
       "      <td>95.00</td>\n",
       "      <td>Female</td>\n",
       "      <td>Placed</td>\n",
       "    </tr>\n",
       "  </tbody>\n",
       "</table>\n",
       "</div>"
      ],
      "text/plain": [
       "   CGPA  Internship  Paid_Internship  Projects  Aptitude_Score  Skills_Rating  \\\n",
       "0  8.19           0                0         4           74.72           6.55   \n",
       "1  7.17           0                0         3           68.51           6.79   \n",
       "2  9.02           1                0         5           85.67           7.79   \n",
       "3  8.44           1                0         4           55.29           6.47   \n",
       "4  8.63           1                0         5           70.58           7.54   \n",
       "\n",
       "  Placement_Training  SSC_Marks  Gender Placement_Status  \n",
       "0       Not Attended      83.94    Male           Placed  \n",
       "1           Attended      67.28    Male           Placed  \n",
       "2           Attended      60.86    Male           Placed  \n",
       "3           Attended      76.20  Female           Placed  \n",
       "4           Attended      95.00  Female           Placed  "
      ]
     },
     "execution_count": 332,
     "metadata": {},
     "output_type": "execute_result"
    }
   ],
   "source": [
    "df = pd.read_csv('college_placement_dataset_final.csv')\n",
    "df = df.drop(columns=['Workshop_Certification'])\n",
    "df.head()"
   ]
  },
  {
   "cell_type": "code",
   "execution_count": 334,
   "id": "d58a4ad3-ca73-4793-bec6-3e5e8e696fbc",
   "metadata": {},
   "outputs": [
    {
     "name": "stdout",
     "output_type": "stream",
     "text": [
      "51\n",
      "27\n",
      "(4921, 10)\n"
     ]
    }
   ],
   "source": [
    "print((df['Aptitude_Score'] < 25).sum())\n",
    "df = df[df['Aptitude_Score'] > 25]\n",
    "\n",
    "print((df['Skills_Rating'] < 2.5).sum())\n",
    "df = df[df['Skills_Rating'] > 2.5]\n",
    "print(df.shape)"
   ]
  },
  {
   "cell_type": "code",
   "execution_count": 336,
   "id": "c3a740ae-49c7-47c4-bf8c-9d5b2ede5e0f",
   "metadata": {},
   "outputs": [],
   "source": [
    "from sklearn.compose import ColumnTransformer\n",
    "from sklearn.preprocessing import OneHotEncoder, StandardScaler\n",
    "from sklearn.tree import DecisionTreeClassifier\n",
    "from sklearn.linear_model import LogisticRegression\n",
    "from sklearn.ensemble import StackingClassifier, RandomForestClassifier\n",
    "from sklearn.svm import SVC\n",
    "from sklearn.neighbors import KNeighborsClassifier\n",
    "from sklearn.pipeline import Pipeline\n",
    "import pickle"
   ]
  },
  {
   "cell_type": "code",
   "execution_count": 338,
   "id": "fe9a6f01-281f-421c-8d3f-6cbd67ea1e3f",
   "metadata": {},
   "outputs": [],
   "source": [
    "num_cols = ['CGPA', 'Internship', 'Paid_Internship', 'Projects', \n",
    "            'Aptitude_Score', 'Skills_Rating', 'SSC_Marks']\n",
    "cat_cols = ['Placement_Training', 'Gender',]"
   ]
  },
  {
   "cell_type": "code",
   "execution_count": 340,
   "id": "ef915e6d-9a97-43f1-9683-1e8507398f66",
   "metadata": {},
   "outputs": [],
   "source": [
    "preprocessor = ColumnTransformer([\n",
    "    ('num', StandardScaler(), num_cols),\n",
    "    ('cat', OneHotEncoder(drop='first', sparse_output=False), cat_cols)\n",
    "])"
   ]
  },
  {
   "cell_type": "code",
   "execution_count": 342,
   "id": "0289f0f7-39b5-4460-bc06-f64076fe57c1",
   "metadata": {},
   "outputs": [],
   "source": [
    "lr = LogisticRegression()\n",
    "dt = DecisionTreeClassifier(max_depth=5)\n",
    "rf = RandomForestClassifier(n_estimators=100, max_depth=5)\n",
    "svm = SVC(probability=True)\n",
    "knn = KNeighborsClassifier(n_neighbors=8)"
   ]
  },
  {
   "cell_type": "code",
   "execution_count": 344,
   "id": "715d931b-b025-4669-9a06-5db163004769",
   "metadata": {},
   "outputs": [],
   "source": [
    "estimators = [('lr', lr), ('dt', dt), ('rf', rf), ('svm', svm), ('knn', knn)]\n",
    "\n",
    "stc = StackingClassifier(\n",
    "    estimators=estimators, \n",
    "    final_estimator=LogisticRegression(),\n",
    "    n_jobs=-1,\n",
    ")"
   ]
  },
  {
   "cell_type": "code",
   "execution_count": 346,
   "id": "79bbca5d-c3b5-4f81-90fa-57d37b914410",
   "metadata": {},
   "outputs": [],
   "source": [
    "full_pipeline = Pipeline([\n",
    "    ('preprocessor', preprocessor),\n",
    "    ('model', stc)\n",
    "])"
   ]
  },
  {
   "cell_type": "code",
   "execution_count": 348,
   "id": "c01c2867-8c5c-4f71-8fc2-bd41c57af0d6",
   "metadata": {},
   "outputs": [],
   "source": [
    "x = df.drop(columns=['Placement_Status'])\n",
    "y = df['Placement_Status']"
   ]
  },
  {
   "cell_type": "code",
   "execution_count": 350,
   "id": "b9990890-e01a-4407-a8d9-7397ff33cb23",
   "metadata": {},
   "outputs": [],
   "source": [
    "from sklearn.model_selection import train_test_split\n",
    "x_train, x_test, y_train, y_test = train_test_split(x, y, test_size=.2, random_state=42)"
   ]
  },
  {
   "cell_type": "code",
   "execution_count": 352,
   "id": "d02e8666-e110-46de-b4d5-f7dac0bd341c",
   "metadata": {},
   "outputs": [],
   "source": [
    "full_pipeline.fit(x_train, y_train)\n",
    "y_pred = full_pipeline.predict(x_test)"
   ]
  },
  {
   "cell_type": "code",
   "execution_count": 353,
   "id": "cecabf8d-675a-45d5-b271-3aec115e9f70",
   "metadata": {},
   "outputs": [
    {
     "name": "stdout",
     "output_type": "stream",
     "text": [
      "accuracy_score:  0.868020304568528\n",
      "f1_score:  0.9013657056145675\n"
     ]
    }
   ],
   "source": [
    "from sklearn.metrics import accuracy_score, f1_score\n",
    "\n",
    "print('accuracy_score: ', accuracy_score(y_test, y_pred))\n",
    "print('f1_score: ', f1_score(y_test, y_pred, pos_label='Placed'))"
   ]
  },
  {
   "cell_type": "code",
   "execution_count": 354,
   "id": "73866f5a-0738-4084-b86a-1e0fbbf550e8",
   "metadata": {},
   "outputs": [
    {
     "name": "stdout",
     "output_type": "stream",
     "text": [
      "['Placed']\n",
      "[P(Not_Placed), P(Placed)]\n"
     ]
    },
    {
     "data": {
      "text/plain": [
       "array([[0.15448644, 0.84551356]])"
      ]
     },
     "execution_count": 354,
     "metadata": {},
     "output_type": "execute_result"
    }
   ],
   "source": [
    "columns = ['CGPA', 'Internship', 'Paid_Internship', 'Projects', 'Aptitude_Score',\n",
    "       'Skills_Rating', 'Placement_Training', 'SSC_Marks', 'Gender']\n",
    "\n",
    "testing = pd.DataFrame([[7,\t2,\t1,\t3, 70.97, 8.8, 'Not Attended', 87, 'Female']], columns=columns)\n",
    "\n",
    "print(full_pipeline.predict(testing))\n",
    "print('[P(Not_Placed), P(Placed)]')\n",
    "full_pipeline.predict_proba(testing)"
   ]
  },
  {
   "cell_type": "code",
   "execution_count": 355,
   "id": "c1edd6ad-d46f-4055-98e2-e34ef69d683d",
   "metadata": {},
   "outputs": [
    {
     "name": "stdout",
     "output_type": "stream",
     "text": [
      "numpy:  1.26.4\n",
      "pandas:  2.2.2\n",
      "scikit-learn:  1.6.1\n"
     ]
    }
   ],
   "source": [
    "import pickle \n",
    "\n",
    "import sklearn\n",
    "print('numpy: ', np.__version__)\n",
    "print('pandas: ', pd.__version__)\n",
    "print('scikit-learn: ', sklearn.__version__)"
   ]
  },
  {
   "cell_type": "code",
   "execution_count": 356,
   "id": "1891b07f-49e5-4456-bfe6-b6caf409c4e1",
   "metadata": {},
   "outputs": [],
   "source": [
    "with open('Final_Placement_prediction_model_with_pipeline.pkl', 'wb') as file:\n",
    "    pickle.dump(stc, file)"
   ]
  },
  {
   "cell_type": "code",
   "execution_count": null,
   "id": "9a87e61d-3433-40d9-807a-33fb446078ee",
   "metadata": {},
   "outputs": [],
   "source": []
  }
 ],
 "metadata": {
  "kernelspec": {
   "display_name": "base",
   "language": "python",
   "name": "python3"
  },
  "language_info": {
   "codemirror_mode": {
    "name": "ipython",
    "version": 3
   },
   "file_extension": ".py",
   "mimetype": "text/x-python",
   "name": "python",
   "nbconvert_exporter": "python",
   "pygments_lexer": "ipython3",
   "version": "3.12.2"
  }
 },
 "nbformat": 4,
 "nbformat_minor": 5
}
